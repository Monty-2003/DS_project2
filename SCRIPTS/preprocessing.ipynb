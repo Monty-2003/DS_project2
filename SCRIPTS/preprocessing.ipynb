{
 "cells": [
  {
   "cell_type": "code",
   "execution_count": null,
   "metadata": {},
   "outputs": [],
   "source": [
    "import pandas as pd\n",
    "import matplotlib.pyplot as plt\n",
    "import numpy as np\n",
    "import matplotlib.dates as mdates\n",
    "from google.colab import drive"
   ]
  },
  {
   "cell_type": "code",
   "execution_count": null,
   "metadata": {},
   "outputs": [],
   "source": [
    "drive.mount('/content/drive')\n",
    "\n",
    "def loadThirtyYearInflationData():\n",
    "  thirty_year_inflation_DF = pd.read_csv('/content/drive/MyDrive/DS Project Course/Project2/Data/30yInflation.csv')\n",
    "  return thirty_year_inflation_DF\n",
    "\n",
    "def loadCommRealEstateLoanData():\n",
    "  comm_realestate_loans_DF = pd.read_csv('/content/drive/MyDrive/DS Project Course/Project2/Data/CommRealEstateLoans.csv')\n",
    "  return comm_realestate_loans_DF\n",
    "\n",
    "def loadCommRealEstatePriceData():\n",
    "  comm_realestate_prices_DF = pd.read_csv('/content/drive/MyDrive/DS Project Course/Project2/Data/CommRealEstatePrices.csv')\n",
    "  return comm_realestate_prices_DF\n",
    "\n",
    "def loadCpiFoodEnergyData():\n",
    "  cpi_less_food_energy_DF = pd.read_csv('/content/drive/MyDrive/DS Project Course/Project2/Data/CpiLessFood_Energy.csv')\n",
    "  return cpi_less_food_energy_DF\n",
    "\n",
    "def loadMortgageRateData():\n",
    "  mortgage_rates_DF = pd.read_csv('/content/drive/MyDrive/DS Project Course/Project2/Data/MortgageRates.csv')\n",
    "  return mortgage_rates_DF\n",
    "\n",
    "def loadStickyCpiData():\n",
    "  sticky_cpi_DF = pd.read_csv('/content/drive/MyDrive/DS Project Course/Project2/Data/StickyCpi.csv')\n",
    "  return sticky_cpi_DF"
   ]
  },
  {
   "cell_type": "code",
   "execution_count": null,
   "metadata": {},
   "outputs": [],
   "source": [
    "inflation_df = loadThirtyYearInflationData()\n",
    "inflation_df.info()"
   ]
  },
  {
   "cell_type": "code",
   "execution_count": null,
   "metadata": {},
   "outputs": [],
   "source": [
    "# Generate inflation data\n",
    "inflation_df['inflationRate'] = inflation_df['T30YIEM']\n",
    "inflation_df['DATE'] = pd.to_datetime(inflation_df['DATE'])\n",
    "inflation_df['Year'] = inflation_df['DATE'].dt.year\n",
    "inflation_df['YearFraction'] = inflation_df['Year'] + (inflation_df['DATE'].dt.dayofyear / 365.25)\n",
    "inflation_df.drop('T30YIEM', axis=1)"
   ]
  },
  {
   "cell_type": "code",
   "execution_count": null,
   "metadata": {},
   "outputs": [],
   "source": [
    "real_estate_loan_df = loadCommRealEstateLoanData()\n",
    "real_estate_loan_df.info()"
   ]
  },
  {
   "cell_type": "code",
   "execution_count": null,
   "metadata": {},
   "outputs": [],
   "source": [
    "real_estate_loan_df['totalRealEstateLoansTaken(billions)'] = real_estate_loan_df['CREACBW027SBOG']\n",
    "real_estate_loan_df['DATE'] = pd.to_datetime(real_estate_loan_df['DATE'])\n",
    "real_estate_loan_df['Year'] = real_estate_loan_df['DATE'].dt.year\n",
    "real_estate_loan_df['YearFraction'] = real_estate_loan_df['Year'] + (real_estate_loan_df['DATE'].dt.dayofyear / 365.25)\n",
    "real_estate_loan_df.drop('CREACBW027SBOG', axis=1)"
   ]
  },
  {
   "cell_type": "code",
   "execution_count": null,
   "metadata": {},
   "outputs": [],
   "source": [
    "real_estate_price = loadCommRealEstatePriceData();\n",
    "real_estate_price.info()"
   ]
  },
  {
   "cell_type": "code",
   "execution_count": null,
   "metadata": {},
   "outputs": [],
   "source": [
    "real_estate_price['PercentChangeFromLastYear'] = real_estate_price['COMREPUSQ159N']\n",
    "real_estate_price['DATE'] = pd.to_datetime(real_estate_price['DATE'])\n",
    "real_estate_price['Year'] = real_estate_price['DATE'].dt.year\n",
    "real_estate_price['YearFraction'] = real_estate_price['Year'] + (real_estate_price['DATE'].dt.dayofyear / 365.25)\n",
    "real_estate_price.drop('COMREPUSQ159N', axis=1)"
   ]
  },
  {
   "cell_type": "code",
   "execution_count": null,
   "metadata": {},
   "outputs": [],
   "source": [
    "sticky_price_food_energy_df = loadCpiFoodEnergyData()\n",
    "sticky_price_food_energy_df.info()"
   ]
  },
  {
   "cell_type": "code",
   "execution_count": null,
   "metadata": {},
   "outputs": [],
   "source": [
    "sticky_price_food_energy_df['PercentChangeFromLastYear'] = sticky_price_food_energy_df['CORESTICKM159SFRBATL']\n",
    "sticky_price_food_energy_df['DATE'] = pd.to_datetime(sticky_price_food_energy_df['DATE'])\n",
    "sticky_price_food_energy_df['Year'] = sticky_price_food_energy_df['DATE'].dt.year\n",
    "sticky_price_food_energy_df['YearFraction'] = sticky_price_food_energy_df['Year'] + (sticky_price_food_energy_df['DATE'].dt.dayofyear / 365.25)\n",
    "sticky_price_food_energy_df.drop('CORESTICKM159SFRBATL', axis=1)"
   ]
  },
  {
   "cell_type": "code",
   "execution_count": null,
   "metadata": {},
   "outputs": [],
   "source": [
    "mortgage_df = loadMortgageRateData()\n",
    "mortgage_df.info()"
   ]
  },
  {
   "cell_type": "code",
   "execution_count": null,
   "metadata": {},
   "outputs": [],
   "source": [
    "mortgage_df['Mortgage_Average_Fixed_Rate'] = mortgage_df['MORTGAGE30US']\n",
    "mortgage_df['DATE'] = pd.to_datetime(mortgage_df['DATE'])\n",
    "mortgage_df['Year'] = mortgage_df['DATE'].dt.year\n",
    "mortgage_df['YearFraction'] = mortgage_df['Year'] + (mortgage_df['DATE'].dt.dayofyear / 365.25)\n",
    "mortgage_df.drop('MORTGAGE30US', axis=1)"
   ]
  },
  {
   "cell_type": "code",
   "execution_count": null,
   "metadata": {},
   "outputs": [],
   "source": [
    "cpi_df = loadStickyCpiData()\n",
    "cpi_df.info()"
   ]
  },
  {
   "cell_type": "code",
   "execution_count": null,
   "metadata": {},
   "outputs": [],
   "source": [
    "cpi_df['Percent_Change'] = cpi_df['STICKCPIM157SFRBATL']\n",
    "cpi_df['DATE'] = pd.to_datetime(cpi_df['DATE'])\n",
    "cpi_df['Year'] = cpi_df['DATE'].dt.year\n",
    "cpi_df['YearFraction'] = cpi_df['Year'] + (cpi_df['DATE'].dt.dayofyear / 365.25)\n",
    "cpi_df.drop('STICKCPIM157SFRBATL', axis=1)"
   ]
  },
  {
   "cell_type": "code",
   "execution_count": null,
   "metadata": {},
   "outputs": [],
   "source": [
    "combined_25ydf_inflation_loansAndPrices_mortgagerates = = inflation_df.merge(real_estate_loan_df, on=\"Year\", how=\"outer\")\n",
    "combined_25ydf_inflation_loansAndPrices_mortgagerates = combined_25ydf_inflation_loansAndPrices_mortgagerates.merge(real_estate_price, on=\"Year\", how=\"outer\")\n",
    "combined_25ydf_inflation_loansAndPrices_mortgagerates = combined_25ydf_inflation_loansAndPrices_mortgagerates.merge(mortgage_rates_DF, on=\"Year\", how=\"outer\")"
   ]
  }
 ],
 "metadata": {
  "language_info": {
   "name": "python"
  }
 },
 "nbformat": 4,
 "nbformat_minor": 2
}
