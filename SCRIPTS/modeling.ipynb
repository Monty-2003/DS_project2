{
 "cells": [
  {
   "cell_type": "code",
   "execution_count": null,
   "metadata": {},
   "outputs": [],
   "source": [
    "import pandas as pd\n",
    "import matplotlib.pyplot as plt\n",
    "import numpy as np\n",
    "import matplotlib.dates as mdates\n",
    "from google.colab import drive"
   ]
  },
  {
   "cell_type": "code",
   "execution_count": null,
   "metadata": {},
   "outputs": [],
   "source": [
    "drive.mount('/content/drive')\n",
    "\n",
    "modeling_df = pd.read_csv('/content/drive/MyDrive/DS Project Course/Project2/combined_2010.csv')\n",
    "### COLUMNSS ###\n",
    "# Year\n",
    "# percent_change_cpi\n",
    "# inflation_rate\n",
    "# quantity_realestate_loans_billions\n",
    "# realestate_price_change\n",
    "# mortage_fixed_rate"
   ]
  },
  {
   "cell_type": "code",
   "execution_count": null,
   "metadata": {},
   "outputs": [],
   "source": [
    "plt.figure(figsize=(12, 6))\n",
    "plt.plot(modeling_df.index, modeling_df['inflation_rate'], label='Inflation Rate', color='white')\n",
    "plt.plot(modeling_df.index, modeling_df['percent_change_cpi'], label='CPI percent change', color='blue')\n",
    "plt.plot(modeling_df.index, modeling_df['quantity_realestate_loans_billions'], label='Real Estate loans (billions)', color='white')\n",
    "plt.plot(modeling_df.index, modeling_df['realestate_price_change'], label='Real Estate price change', color='white')\n",
    "plt.plot(modeling_df.index, modeling_df['mortgage_fixed_rate'], label='Mortage Rate', color='white')\n",
    "\n",
    "\n",
    "\n",
    "plt.xlabel('Year')\n",
    "plt.ylabel('Values')\n",
    "plt.title('Financial Metrics Over Time (2010-2024)')\n",
    "plt.legend()\n",
    "plt.grid()\n",
    "plt.show()\n"
   ]
  }
 ],
 "metadata": {
  "language_info": {
   "name": "python"
  }
 },
 "nbformat": 4,
 "nbformat_minor": 2
}
